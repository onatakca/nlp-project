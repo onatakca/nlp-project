{
 "cells": [
  {
   "cell_type": "code",
   "execution_count": 7,
   "id": "6f0f94c7-e811-4c79-a600-8b96e24fc995",
   "metadata": {
    "tags": []
   },
   "outputs": [
    {
     "name": "stdout",
     "output_type": "stream",
     "text": [
      "Dataset URL: https://www.kaggle.com/datasets/carlosgdcj/genius-song-lyrics-with-language-information\n",
      "Dataset downloaded and extracted into ./data\n"
     ]
    }
   ],
   "source": [
    "!pip install kaggle --upgrade --quiet\n",
    "# Hide kaggle\n",
    "!chmod 600 kaggle.json\n",
    "\n",
    "\n",
    "import os\n",
    "os.environ[\"KAGGLE_CONFIG_DIR\"] = \".\"\n",
    "\n",
    "\n",
    "from kaggle.api.kaggle_api_extended import KaggleApi\n",
    "api = KaggleApi()\n",
    "api.authenticate()\n",
    "\n",
    "# Download into ./data\n",
    "os.makedirs(\"data\", exist_ok=True)\n",
    "api.dataset_download_files(\n",
    "    \"carlosgdcj/genius-song-lyrics-with-language-information\",\n",
    "    path=\"data\",\n",
    "    unzip=True\n",
    ")\n",
    "\n",
    "print(\"Dataset downloaded and extracted into ./data\")\n"
   ]
  }
 ],
 "metadata": {
  "kernelspec": {
   "display_name": "Python 3 (ipykernel)",
   "language": "python",
   "name": "python3"
  },
  "language_info": {
   "codemirror_mode": {
    "name": "ipython",
    "version": 3
   },
   "file_extension": ".py",
   "mimetype": "text/x-python",
   "name": "python",
   "nbconvert_exporter": "python",
   "pygments_lexer": "ipython3",
   "version": "3.10.12"
  }
 },
 "nbformat": 4,
 "nbformat_minor": 5
}
