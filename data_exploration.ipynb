{
 "cells": [
  {
   "cell_type": "code",
   "execution_count": 2,
   "id": "6e3d2b15-5e37-46cf-892d-f34b056270d0",
   "metadata": {
    "tags": []
   },
   "outputs": [
    {
     "name": "stdout",
     "output_type": "stream",
     "text": [
      "✅ Report saved to data_exploration.txt\n"
     ]
    }
   ],
   "source": [
    "import pandas as pd\n",
    "import io\n",
    "\n",
    "# --- Step 1: Load data ---\n",
    "df = pd.read_csv(\"data/song_lyrics.csv\")\n",
    "\n",
    "# --- Step 2: Open report file ---\n",
    "with open(\"data_exploration.txt\", \"w\", encoding=\"utf-8\") as f:\n",
    "    # Basic info\n",
    "    f.write(\"DATASET EXPLORATION REPORT\\n\")\n",
    "    f.write(\"=\"*40 + \"\\n\\n\")\n",
    "    f.write(f\"Shape: {df.shape[0]} rows × {df.shape[1]} columns\\n\\n\")\n",
    "\n",
    "    # Column info\n",
    "    buffer = io.StringIO()\n",
    "    df.info(buf=buffer)\n",
    "    f.write(\"BASIC INFO\\n\")\n",
    "    f.write(buffer.getvalue() + \"\\n\")\n",
    "\n",
    "    # Missing values\n",
    "    f.write(\"MISSING VALUES\\n\")\n",
    "    f.write(df.isnull().sum().to_string() + \"\\n\\n\")\n",
    "\n",
    "    # Column analysis\n",
    "    for col in df.columns:\n",
    "        f.write(f\"\\n--- {col} ---\\n\")\n",
    "        nunique = df[col].nunique()\n",
    "        f.write(f\"Unique values: {nunique}\\n\")\n",
    "        \n",
    "        if df[col].dtype == \"object\" or nunique < 50:\n",
    "            value_counts = df[col].value_counts(dropna=False)\n",
    "            f.write(\"\\nMost popular 5:\\n\")\n",
    "            f.write(value_counts.head(5).to_string() + \"\\n\")\n",
    "            f.write(\"\\nLeast popular 5:\\n\")\n",
    "            f.write(value_counts.tail(5).to_string() + \"\\n\")\n",
    "        else:\n",
    "            f.write(\"\\nNumeric column summary:\\n\")\n",
    "            f.write(df[col].describe().to_string() + \"\\n\")\n",
    "\n",
    "print(\"✅ Report saved to data_exploration.txt\")\n"
   ]
  }
 ],
 "metadata": {
  "kernelspec": {
   "display_name": "Python 3 (ipykernel)",
   "language": "python",
   "name": "python3"
  },
  "language_info": {
   "codemirror_mode": {
    "name": "ipython",
    "version": 3
   },
   "file_extension": ".py",
   "mimetype": "text/x-python",
   "name": "python",
   "nbconvert_exporter": "python",
   "pygments_lexer": "ipython3",
   "version": "3.10.12"
  }
 },
 "nbformat": 4,
 "nbformat_minor": 5
}
